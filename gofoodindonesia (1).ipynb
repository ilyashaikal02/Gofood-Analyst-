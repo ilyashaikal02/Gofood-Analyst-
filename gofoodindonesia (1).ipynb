{
 "cells": [
  {
   "cell_type": "code",
   "execution_count": 1,
   "metadata": {
    "_cell_guid": "b1076dfc-b9ad-4769-8c92-a6c4dae69d19",
    "_uuid": "8f2839f25d086af736a60e9eeb907d3b93b6e0e5",
    "execution": {
     "iopub.execute_input": "2023-01-28T16:18:24.120183Z",
     "iopub.status.busy": "2023-01-28T16:18:24.119611Z",
     "iopub.status.idle": "2023-01-28T16:18:25.151744Z",
     "shell.execute_reply": "2023-01-28T16:18:25.150740Z",
     "shell.execute_reply.started": "2023-01-28T16:18:24.120074Z"
    }
   },
   "outputs": [],
   "source": [
    "# Imp\n",
    "\n",
    "import pandas as pd\n",
    "import numpy as np\n",
    "import matplotlib.pyplot as plt\n",
    "import seaborn as sns\n",
    "import warnings\n",
    "warnings.filterwarnings('ignore')\n",
    "\n"
   ]
  },
  {
   "cell_type": "code",
   "execution_count": 2,
   "metadata": {
    "execution": {
     "iopub.execute_input": "2023-01-28T16:18:25.153687Z",
     "iopub.status.busy": "2023-01-28T16:18:25.153269Z",
     "iopub.status.idle": "2023-01-28T16:18:25.296543Z",
     "shell.execute_reply": "2023-01-28T16:18:25.295805Z",
     "shell.execute_reply.started": "2023-01-28T16:18:25.153649Z"
    }
   },
   "outputs": [],
   "source": [
    "# df=pd.read_csv(\"../input/2022-ukraine-russian-war/russia_losses_equipment.csv\",parse_dates=['date'])\n",
    "\n",
    "df=pd.read_csv(\"../input/indonesia-food-delivery-gofood-product-list/gofood_dataset.csv\")\n"
   ]
  },
  {
   "cell_type": "code",
   "execution_count": 3,
   "metadata": {
    "execution": {
     "iopub.execute_input": "2023-01-28T16:18:25.298629Z",
     "iopub.status.busy": "2023-01-28T16:18:25.298160Z",
     "iopub.status.idle": "2023-01-28T16:18:25.326528Z",
     "shell.execute_reply": "2023-01-28T16:18:25.325629Z",
     "shell.execute_reply.started": "2023-01-28T16:18:25.298593Z"
    }
   },
   "outputs": [
    {
     "data": {
      "text/html": [
       "<div>\n",
       "<style scoped>\n",
       "    .dataframe tbody tr th:only-of-type {\n",
       "        vertical-align: middle;\n",
       "    }\n",
       "\n",
       "    .dataframe tbody tr th {\n",
       "        vertical-align: top;\n",
       "    }\n",
       "\n",
       "    .dataframe thead th {\n",
       "        text-align: right;\n",
       "    }\n",
       "</style>\n",
       "<table border=\"1\" class=\"dataframe\">\n",
       "  <thead>\n",
       "    <tr style=\"text-align: right;\">\n",
       "      <th></th>\n",
       "      <th>merchant_name</th>\n",
       "      <th>merchant_area</th>\n",
       "      <th>category</th>\n",
       "      <th>display</th>\n",
       "      <th>product</th>\n",
       "      <th>price</th>\n",
       "      <th>discount_price</th>\n",
       "      <th>isDiscount</th>\n",
       "      <th>description</th>\n",
       "    </tr>\n",
       "  </thead>\n",
       "  <tbody>\n",
       "    <tr>\n",
       "      <th>0</th>\n",
       "      <td>330 Kopi, Ciledug</td>\n",
       "      <td>jakarta</td>\n",
       "      <td>Kopi/Minuman/Roti</td>\n",
       "      <td>Signature</td>\n",
       "      <td>Hot Almara Kopi (kopi Susu Gula Aren)</td>\n",
       "      <td>20000.0</td>\n",
       "      <td>NaN</td>\n",
       "      <td>0</td>\n",
       "      <td>Sajian Kopi Susu Gula Aren Yang Berbeda Dari K...</td>\n",
       "    </tr>\n",
       "    <tr>\n",
       "      <th>1</th>\n",
       "      <td>330 Kopi, Ciledug</td>\n",
       "      <td>jakarta</td>\n",
       "      <td>Kopi/Minuman/Roti</td>\n",
       "      <td>Signature</td>\n",
       "      <td>Ice Almara Kopi (kopi Susu Gula Aren)</td>\n",
       "      <td>22000.0</td>\n",
       "      <td>NaN</td>\n",
       "      <td>0</td>\n",
       "      <td>Sajian Kopi Susu Gula Aren Yang Berbeda Dari K...</td>\n",
       "    </tr>\n",
       "    <tr>\n",
       "      <th>2</th>\n",
       "      <td>330 Kopi, Ciledug</td>\n",
       "      <td>jakarta</td>\n",
       "      <td>Kopi/Minuman/Roti</td>\n",
       "      <td>Signature</td>\n",
       "      <td>Hot Millsis</td>\n",
       "      <td>20000.0</td>\n",
       "      <td>NaN</td>\n",
       "      <td>0</td>\n",
       "      <td>Sajian Susu Coklat Milo Dengan Racikan Khas 3 ...</td>\n",
       "    </tr>\n",
       "    <tr>\n",
       "      <th>3</th>\n",
       "      <td>330 Kopi, Ciledug</td>\n",
       "      <td>jakarta</td>\n",
       "      <td>Kopi/Minuman/Roti</td>\n",
       "      <td>Signature</td>\n",
       "      <td>Ice Millsis</td>\n",
       "      <td>20000.0</td>\n",
       "      <td>NaN</td>\n",
       "      <td>0</td>\n",
       "      <td>Sajian Susu Coklat Milo Dengan Racikan Khas 3 ...</td>\n",
       "    </tr>\n",
       "    <tr>\n",
       "      <th>4</th>\n",
       "      <td>330 Kopi, Ciledug</td>\n",
       "      <td>jakarta</td>\n",
       "      <td>Kopi/Minuman/Roti</td>\n",
       "      <td>Signature</td>\n",
       "      <td>Hot Millbro</td>\n",
       "      <td>22000.0</td>\n",
       "      <td>NaN</td>\n",
       "      <td>0</td>\n",
       "      <td>Sajian Susu Coklat Milo Plus Espresso Dengan R...</td>\n",
       "    </tr>\n",
       "  </tbody>\n",
       "</table>\n",
       "</div>"
      ],
      "text/plain": [
       "       merchant_name merchant_area           category    display  \\\n",
       "0  330 Kopi, Ciledug       jakarta  Kopi/Minuman/Roti  Signature   \n",
       "1  330 Kopi, Ciledug       jakarta  Kopi/Minuman/Roti  Signature   \n",
       "2  330 Kopi, Ciledug       jakarta  Kopi/Minuman/Roti  Signature   \n",
       "3  330 Kopi, Ciledug       jakarta  Kopi/Minuman/Roti  Signature   \n",
       "4  330 Kopi, Ciledug       jakarta  Kopi/Minuman/Roti  Signature   \n",
       "\n",
       "                                 product    price  discount_price  isDiscount  \\\n",
       "0  Hot Almara Kopi (kopi Susu Gula Aren)  20000.0             NaN           0   \n",
       "1  Ice Almara Kopi (kopi Susu Gula Aren)  22000.0             NaN           0   \n",
       "2                            Hot Millsis  20000.0             NaN           0   \n",
       "3                            Ice Millsis  20000.0             NaN           0   \n",
       "4                            Hot Millbro  22000.0             NaN           0   \n",
       "\n",
       "                                         description  \n",
       "0  Sajian Kopi Susu Gula Aren Yang Berbeda Dari K...  \n",
       "1  Sajian Kopi Susu Gula Aren Yang Berbeda Dari K...  \n",
       "2  Sajian Susu Coklat Milo Dengan Racikan Khas 3 ...  \n",
       "3  Sajian Susu Coklat Milo Dengan Racikan Khas 3 ...  \n",
       "4  Sajian Susu Coklat Milo Plus Espresso Dengan R...  "
      ]
     },
     "execution_count": 3,
     "metadata": {},
     "output_type": "execute_result"
    }
   ],
   "source": [
    "df.head()"
   ]
  },
  {
   "cell_type": "code",
   "execution_count": 4,
   "metadata": {
    "execution": {
     "iopub.execute_input": "2023-01-28T16:18:25.328587Z",
     "iopub.status.busy": "2023-01-28T16:18:25.328346Z",
     "iopub.status.idle": "2023-01-28T16:18:25.371570Z",
     "shell.execute_reply": "2023-01-28T16:18:25.371010Z",
     "shell.execute_reply.started": "2023-01-28T16:18:25.328554Z"
    }
   },
   "outputs": [
    {
     "name": "stdout",
     "output_type": "stream",
     "text": [
      "<class 'pandas.core.frame.DataFrame'>\n",
      "RangeIndex: 45195 entries, 0 to 45194\n",
      "Data columns (total 9 columns):\n",
      " #   Column          Non-Null Count  Dtype  \n",
      "---  ------          --------------  -----  \n",
      " 0   merchant_name   45195 non-null  object \n",
      " 1   merchant_area   45195 non-null  object \n",
      " 2   category        45195 non-null  object \n",
      " 3   display         45195 non-null  object \n",
      " 4   product         45195 non-null  object \n",
      " 5   price           45195 non-null  float64\n",
      " 6   discount_price  2738 non-null   float64\n",
      " 7   isDiscount      45195 non-null  int64  \n",
      " 8   description     21720 non-null  object \n",
      "dtypes: float64(2), int64(1), object(6)\n",
      "memory usage: 3.1+ MB\n"
     ]
    }
   ],
   "source": [
    "df.info()"
   ]
  },
  {
   "cell_type": "markdown",
   "metadata": {},
   "source": [
    "# Data Cleaning"
   ]
  },
  {
   "cell_type": "code",
   "execution_count": 5,
   "metadata": {
    "execution": {
     "iopub.execute_input": "2023-01-28T16:18:25.373099Z",
     "iopub.status.busy": "2023-01-28T16:18:25.372767Z",
     "iopub.status.idle": "2023-01-28T16:18:25.391167Z",
     "shell.execute_reply": "2023-01-28T16:18:25.390130Z",
     "shell.execute_reply.started": "2023-01-28T16:18:25.373070Z"
    }
   },
   "outputs": [
    {
     "data": {
      "text/plain": [
       "merchant_name         0\n",
       "merchant_area         0\n",
       "category              0\n",
       "display               0\n",
       "product               0\n",
       "price                 0\n",
       "discount_price    42457\n",
       "isDiscount            0\n",
       "description       23475\n",
       "dtype: int64"
      ]
     },
     "execution_count": 5,
     "metadata": {},
     "output_type": "execute_result"
    }
   ],
   "source": [
    "df.isna().sum()"
   ]
  },
  {
   "cell_type": "code",
   "execution_count": 6,
   "metadata": {
    "execution": {
     "iopub.execute_input": "2023-01-28T16:18:25.393031Z",
     "iopub.status.busy": "2023-01-28T16:18:25.392803Z",
     "iopub.status.idle": "2023-01-28T16:18:25.424220Z",
     "shell.execute_reply": "2023-01-28T16:18:25.423546Z",
     "shell.execute_reply.started": "2023-01-28T16:18:25.393005Z"
    }
   },
   "outputs": [
    {
     "data": {
      "text/plain": [
       "merchant_name     0\n",
       "merchant_area     0\n",
       "category          0\n",
       "display           0\n",
       "product           0\n",
       "price             0\n",
       "discount_price    0\n",
       "isDiscount        0\n",
       "description       0\n",
       "dtype: int64"
      ]
     },
     "execution_count": 6,
     "metadata": {},
     "output_type": "execute_result"
    }
   ],
   "source": [
    "df = df.fillna(0)\n",
    "df.isna().sum()"
   ]
  },
  {
   "cell_type": "markdown",
   "metadata": {},
   "source": [
    "----------------------------------------------------------------------------------------------------\n",
    "# \"Revenue Merchant Area Gofood\" \n",
    "*withoutdiscount_price*"
   ]
  },
  {
   "cell_type": "code",
   "execution_count": 7,
   "metadata": {
    "execution": {
     "iopub.execute_input": "2023-01-28T16:18:25.425956Z",
     "iopub.status.busy": "2023-01-28T16:18:25.425274Z",
     "iopub.status.idle": "2023-01-28T16:18:26.177016Z",
     "shell.execute_reply": "2023-01-28T16:18:26.176388Z",
     "shell.execute_reply.started": "2023-01-28T16:18:25.425920Z"
    }
   },
   "outputs": [
    {
     "data": {
      "text/plain": [
       "Text(0.5, 1.0, 'Revenue Merchant Area Gofood ***withoutdiscount_price**')"
      ]
     },
     "execution_count": 7,
     "metadata": {},
     "output_type": "execute_result"
    },
    {
     "data": {
      "image/png": "[encoded data removed]",
      "text/plain": [
       "<Figure size 432x288 with 1 Axes>"
      ]
     },
     "metadata": {
      "needs_background": "light"
     },
     "output_type": "display_data"
    }
   ],
   "source": [
    "dftotal = df.groupby(['merchant_area']).sum().sort_values(by = 'price', ascending=False)\n",
    "dftotal = dftotal.reset_index()\n",
    "  \n",
    "# plot barplot\n",
    "sns.barplot(x = \"price\",\n",
    "           y = \"merchant_area\",\n",
    "           data = df)\n",
    "plt.title(\"Revenue Merchant Area Gofood ***withoutdiscount_price**\")"
   ]
  },
  {
   "cell_type": "code",
   "execution_count": 8,
   "metadata": {
    "execution": {
     "iopub.execute_input": "2023-01-28T16:18:26.178557Z",
     "iopub.status.busy": "2023-01-28T16:18:26.178291Z",
     "iopub.status.idle": "2023-01-28T16:18:26.198407Z",
     "shell.execute_reply": "2023-01-28T16:18:26.197767Z",
     "shell.execute_reply.started": "2023-01-28T16:18:26.178528Z"
    }
   },
   "outputs": [
    {
     "data": {
      "text/plain": [
       "merchant_area\n",
       "jakarta     2.561118e+08\n",
       "medan       2.259406e+08\n",
       "surabaya    2.213106e+08\n",
       "dtype: float64"
      ]
     },
     "execution_count": 8,
     "metadata": {},
     "output_type": "execute_result"
    }
   ],
   "source": [
    "dfmean = df.groupby(['merchant_area']).sum()\n",
    "dfmean = dfmean.mean(axis=1)\n",
    "dfmean.head()"
   ]
  },
  {
   "cell_type": "markdown",
   "metadata": {},
   "source": [
    "----------------------------------------------------------------------------------------------------\n",
    "# TOP 10 Merchant Name revenue at Gofood\n",
    "*withoutdiscount_price"
   ]
  },
  {
   "cell_type": "code",
   "execution_count": 9,
   "metadata": {
    "execution": {
     "iopub.execute_input": "2023-01-28T16:18:26.199883Z",
     "iopub.status.busy": "2023-01-28T16:18:26.199558Z",
     "iopub.status.idle": "2023-01-28T16:18:26.233274Z",
     "shell.execute_reply": "2023-01-28T16:18:26.232631Z",
     "shell.execute_reply.started": "2023-01-28T16:18:26.199850Z"
    }
   },
   "outputs": [
    {
     "data": {
      "text/html": [
       "<div>\n",
       "<style scoped>\n",
       "    .dataframe tbody tr th:only-of-type {\n",
       "        vertical-align: middle;\n",
       "    }\n",
       "\n",
       "    .dataframe tbody tr th {\n",
       "        vertical-align: top;\n",
       "    }\n",
       "\n",
       "    .dataframe thead th {\n",
       "        text-align: right;\n",
       "    }\n",
       "</style>\n",
       "<table border=\"1\" class=\"dataframe\">\n",
       "  <thead>\n",
       "    <tr style=\"text-align: right;\">\n",
       "      <th></th>\n",
       "      <th></th>\n",
       "      <th>price</th>\n",
       "      <th>discount_price</th>\n",
       "      <th>isDiscount</th>\n",
       "    </tr>\n",
       "    <tr>\n",
       "      <th>merchant_name</th>\n",
       "      <th>merchant_area</th>\n",
       "      <th></th>\n",
       "      <th></th>\n",
       "      <th></th>\n",
       "    </tr>\n",
       "  </thead>\n",
       "  <tbody>\n",
       "    <tr>\n",
       "      <th>Holywings Backyard, Kemang</th>\n",
       "      <th>jakarta</th>\n",
       "      <td>54904300.0</td>\n",
       "      <td>0.0</td>\n",
       "      <td>0</td>\n",
       "    </tr>\n",
       "    <tr>\n",
       "      <th>Holywings Gold Basra</th>\n",
       "      <th>surabaya</th>\n",
       "      <td>47362040.0</td>\n",
       "      <td>0.0</td>\n",
       "      <td>0</td>\n",
       "    </tr>\n",
       "    <tr>\n",
       "      <th>Holywings, Medan</th>\n",
       "      <th>medan</th>\n",
       "      <td>47074280.0</td>\n",
       "      <td>0.0</td>\n",
       "      <td>0</td>\n",
       "    </tr>\n",
       "    <tr>\n",
       "      <th>Holywings, Kertajaya</th>\n",
       "      <th>surabaya</th>\n",
       "      <td>45946560.0</td>\n",
       "      <td>0.0</td>\n",
       "      <td>0</td>\n",
       "    </tr>\n",
       "    <tr>\n",
       "      <th>Suans Bakery</th>\n",
       "      <th>medan</th>\n",
       "      <td>36458150.0</td>\n",
       "      <td>0.0</td>\n",
       "      <td>0</td>\n",
       "    </tr>\n",
       "    <tr>\n",
       "      <th>The Garrison, Kemang</th>\n",
       "      <th>jakarta</th>\n",
       "      <td>34962840.0</td>\n",
       "      <td>0.0</td>\n",
       "      <td>0</td>\n",
       "    </tr>\n",
       "    <tr>\n",
       "      <th>Grand Liberty Restaurant</th>\n",
       "      <th>medan</th>\n",
       "      <td>34894000.0</td>\n",
       "      <td>1226000.0</td>\n",
       "      <td>6</td>\n",
       "    </tr>\n",
       "    <tr>\n",
       "      <th>Holland Bakery, Tropodo</th>\n",
       "      <th>surabaya</th>\n",
       "      <td>30873200.0</td>\n",
       "      <td>0.0</td>\n",
       "      <td>0</td>\n",
       "    </tr>\n",
       "    <tr>\n",
       "      <th>Holland Bakery, Thamrin</th>\n",
       "      <th>surabaya</th>\n",
       "      <td>29390800.0</td>\n",
       "      <td>0.0</td>\n",
       "      <td>0</td>\n",
       "    </tr>\n",
       "    <tr>\n",
       "      <th>Bika Ambon Zulaikha</th>\n",
       "      <th>medan</th>\n",
       "      <td>25747608.0</td>\n",
       "      <td>0.0</td>\n",
       "      <td>0</td>\n",
       "    </tr>\n",
       "  </tbody>\n",
       "</table>\n",
       "</div>"
      ],
      "text/plain": [
       "                                               price  discount_price  \\\n",
       "merchant_name              merchant_area                               \n",
       "Holywings Backyard, Kemang jakarta        54904300.0             0.0   \n",
       "Holywings Gold Basra       surabaya       47362040.0             0.0   \n",
       "Holywings, Medan           medan          47074280.0             0.0   \n",
       "Holywings, Kertajaya       surabaya       45946560.0             0.0   \n",
       "Suans Bakery               medan          36458150.0             0.0   \n",
       "The Garrison, Kemang       jakarta        34962840.0             0.0   \n",
       "Grand Liberty Restaurant   medan          34894000.0       1226000.0   \n",
       "Holland Bakery, Tropodo    surabaya       30873200.0             0.0   \n",
       "Holland Bakery, Thamrin    surabaya       29390800.0             0.0   \n",
       "Bika Ambon Zulaikha        medan          25747608.0             0.0   \n",
       "\n",
       "                                          isDiscount  \n",
       "merchant_name              merchant_area              \n",
       "Holywings Backyard, Kemang jakarta                 0  \n",
       "Holywings Gold Basra       surabaya                0  \n",
       "Holywings, Medan           medan                   0  \n",
       "Holywings, Kertajaya       surabaya                0  \n",
       "Suans Bakery               medan                   0  \n",
       "The Garrison, Kemang       jakarta                 0  \n",
       "Grand Liberty Restaurant   medan                   6  \n",
       "Holland Bakery, Tropodo    surabaya                0  \n",
       "Holland Bakery, Thamrin    surabaya                0  \n",
       "Bika Ambon Zulaikha        medan                   0  "
      ]
     },
     "execution_count": 9,
     "metadata": {},
     "output_type": "execute_result"
    }
   ],
   "source": [
    "dfname = df.groupby(['merchant_name','merchant_area']).sum().sort_values(by = 'price', ascending=False)\n",
    "dfname.head(10)"
   ]
  },
  {
   "cell_type": "code",
   "execution_count": 10,
   "metadata": {
    "execution": {
     "iopub.execute_input": "2023-01-28T16:18:26.236202Z",
     "iopub.status.busy": "2023-01-28T16:18:26.235749Z",
     "iopub.status.idle": "2023-01-28T16:18:26.474676Z",
     "shell.execute_reply": "2023-01-28T16:18:26.473693Z",
     "shell.execute_reply.started": "2023-01-28T16:18:26.236166Z"
    }
   },
   "outputs": [
    {
     "data": {
      "text/plain": [
       "Text(0.5, 1.0, 'TOP 10 Merchant Name revenue at Gofood *withoutdiscount_price')"
      ]
     },
     "execution_count": 10,
     "metadata": {},
     "output_type": "execute_result"
    },
    {
     "data": {
      "image/png": "[encoded data removed]",
      "text/plain": [
       "<Figure size 720x360 with 1 Axes>"
      ]
     },
     "metadata": {
      "needs_background": "light"
     },
     "output_type": "display_data"
    }
   ],
   "source": [
    "plt_1= plt.figure(figsize=(10,5))\n",
    "dfnamevis = df.groupby(['merchant_name']).sum()\n",
    "dfnamevis = pd.DataFrame(dfnamevis.sort_values(by = 'price', ascending=False))[0:10]\n",
    "dfnamevis = dfnamevis.reset_index()\n",
    "  \n",
    "# plot barplot\n",
    "sns.barplot(x = \"price\",\n",
    "           y = \"merchant_name\",\n",
    "           data = dfnamevis)\n",
    "\n",
    "plt.title(\"TOP 10 Merchant Name revenue at Gofood *withoutdiscount_price\")"
   ]
  },
  {
   "cell_type": "markdown",
   "metadata": {},
   "source": [
    "----------------------------------------------------------------------------------------------------\n",
    "# TOP 10 Revenue Merchant Name in Jakarta\n",
    "*withoutdiscount_price"
   ]
  },
  {
   "cell_type": "code",
   "execution_count": 11,
   "metadata": {
    "execution": {
     "iopub.execute_input": "2023-01-28T16:18:26.476607Z",
     "iopub.status.busy": "2023-01-28T16:18:26.475798Z",
     "iopub.status.idle": "2023-01-28T16:18:26.518706Z",
     "shell.execute_reply": "2023-01-28T16:18:26.517828Z",
     "shell.execute_reply.started": "2023-01-28T16:18:26.476571Z"
    }
   },
   "outputs": [
    {
     "data": {
      "text/html": [
       "<div>\n",
       "<style scoped>\n",
       "    .dataframe tbody tr th:only-of-type {\n",
       "        vertical-align: middle;\n",
       "    }\n",
       "\n",
       "    .dataframe tbody tr th {\n",
       "        vertical-align: top;\n",
       "    }\n",
       "\n",
       "    .dataframe thead th {\n",
       "        text-align: right;\n",
       "    }\n",
       "</style>\n",
       "<table border=\"1\" class=\"dataframe\">\n",
       "  <thead>\n",
       "    <tr style=\"text-align: right;\">\n",
       "      <th></th>\n",
       "      <th>price</th>\n",
       "      <th>discount_price</th>\n",
       "      <th>isDiscount</th>\n",
       "    </tr>\n",
       "    <tr>\n",
       "      <th>merchant_name</th>\n",
       "      <th></th>\n",
       "      <th></th>\n",
       "      <th></th>\n",
       "    </tr>\n",
       "  </thead>\n",
       "  <tbody>\n",
       "    <tr>\n",
       "      <th>Holywings Backyard, Kemang</th>\n",
       "      <td>54904300.0</td>\n",
       "      <td>0.0</td>\n",
       "      <td>0</td>\n",
       "    </tr>\n",
       "    <tr>\n",
       "      <th>The Garrison, Kemang</th>\n",
       "      <td>34962840.0</td>\n",
       "      <td>0.0</td>\n",
       "      <td>0</td>\n",
       "    </tr>\n",
       "    <tr>\n",
       "      <th>Holland Bakery, Ciomas</th>\n",
       "      <td>24141400.0</td>\n",
       "      <td>0.0</td>\n",
       "      <td>0</td>\n",
       "    </tr>\n",
       "    <tr>\n",
       "      <th>Starbucks, Sudirman Bogor</th>\n",
       "      <td>23792000.0</td>\n",
       "      <td>6871000.0</td>\n",
       "      <td>82</td>\n",
       "    </tr>\n",
       "    <tr>\n",
       "      <th>Dapur Cokelat, Depok</th>\n",
       "      <td>19352000.0</td>\n",
       "      <td>0.0</td>\n",
       "      <td>0</td>\n",
       "    </tr>\n",
       "    <tr>\n",
       "      <th>Chateraise, Senayan City</th>\n",
       "      <td>19263250.0</td>\n",
       "      <td>220000.0</td>\n",
       "      <td>7</td>\n",
       "    </tr>\n",
       "    <tr>\n",
       "      <th>Dapur Cokelat, Ciracas</th>\n",
       "      <td>17918000.0</td>\n",
       "      <td>0.0</td>\n",
       "      <td>0</td>\n",
       "    </tr>\n",
       "    <tr>\n",
       "      <th>Bakerman, SCBD</th>\n",
       "      <td>17091875.0</td>\n",
       "      <td>0.0</td>\n",
       "      <td>0</td>\n",
       "    </tr>\n",
       "    <tr>\n",
       "      <th>Oguri Artisanal Cafe</th>\n",
       "      <td>16204500.0</td>\n",
       "      <td>128750.0</td>\n",
       "      <td>1</td>\n",
       "    </tr>\n",
       "    <tr>\n",
       "      <th>The Acre, Menteng</th>\n",
       "      <td>14450800.0</td>\n",
       "      <td>0.0</td>\n",
       "      <td>0</td>\n",
       "    </tr>\n",
       "  </tbody>\n",
       "</table>\n",
       "</div>"
      ],
      "text/plain": [
       "                                 price  discount_price  isDiscount\n",
       "merchant_name                                                     \n",
       "Holywings Backyard, Kemang  54904300.0             0.0           0\n",
       "The Garrison, Kemang        34962840.0             0.0           0\n",
       "Holland Bakery, Ciomas      24141400.0             0.0           0\n",
       "Starbucks, Sudirman Bogor   23792000.0       6871000.0          82\n",
       "Dapur Cokelat, Depok        19352000.0             0.0           0\n",
       "Chateraise, Senayan City    19263250.0        220000.0           7\n",
       "Dapur Cokelat, Ciracas      17918000.0             0.0           0\n",
       "Bakerman, SCBD              17091875.0             0.0           0\n",
       "Oguri Artisanal Cafe        16204500.0        128750.0           1\n",
       "The Acre, Menteng           14450800.0             0.0           0"
      ]
     },
     "execution_count": 11,
     "metadata": {},
     "output_type": "execute_result"
    }
   ],
   "source": [
    "df1 = df[df['merchant_area'].str.contains('jakarta')]\n",
    "df1 = df1.groupby(['merchant_name']).sum().sort_values(by = 'price', ascending=False)\n",
    "df1.head(10)"
   ]
  },
  {
   "cell_type": "code",
   "execution_count": 12,
   "metadata": {
    "execution": {
     "iopub.execute_input": "2023-01-28T16:18:26.520178Z",
     "iopub.status.busy": "2023-01-28T16:18:26.519935Z",
     "iopub.status.idle": "2023-01-28T16:18:26.890650Z",
     "shell.execute_reply": "2023-01-28T16:18:26.889331Z",
     "shell.execute_reply.started": "2023-01-28T16:18:26.520151Z"
    }
   },
   "outputs": [
    {
     "data": {
      "text/plain": [
       "Text(0.5, 1.0, 'TOP 10 Revenue Merchant Name in Jakarta *withoutdiscount_price')"
      ]
     },
     "execution_count": 12,
     "metadata": {},
     "output_type": "execute_result"
    },
    {
     "data": {
      "image/png": "[encoded data removed]",
      "text/plain": [
       "<Figure size 432x288 with 1 Axes>"
      ]
     },
     "metadata": {
      "needs_background": "light"
     },
     "output_type": "display_data"
    }
   ],
   "source": [
    "df1 = df[df['merchant_area'].str.contains('jakarta')]\n",
    "df1 = df1.groupby(['merchant_name']).sum().sort_values(by = 'price', ascending=False)\n",
    "df1.head(10).plot(kind='bar')\n",
    "\n",
    "plt.title(\"TOP 10 Revenue Merchant Name in Jakarta *withoutdiscount_price\")"
   ]
  },
  {
   "cell_type": "markdown",
   "metadata": {},
   "source": [
    "----------------------------------------------------------------------------------------------------\n",
    "# \"TOP 10 Revenue Product at Starbucks, Sudirman Bogor\"\n",
    "*withoutdiscount_price"
   ]
  },
  {
   "cell_type": "code",
   "execution_count": 13,
   "metadata": {
    "execution": {
     "iopub.execute_input": "2023-01-28T16:18:26.891961Z",
     "iopub.status.busy": "2023-01-28T16:18:26.891721Z",
     "iopub.status.idle": "2023-01-28T16:18:26.926105Z",
     "shell.execute_reply": "2023-01-28T16:18:26.925231Z",
     "shell.execute_reply.started": "2023-01-28T16:18:26.891928Z"
    }
   },
   "outputs": [
    {
     "data": {
      "text/plain": [
       "price             144\n",
       "discount_price    144\n",
       "isDiscount        144\n",
       "dtype: int64"
      ]
     },
     "execution_count": 13,
     "metadata": {},
     "output_type": "execute_result"
    }
   ],
   "source": [
    "dfsbc = df[ df['merchant_name'].str.contains('Starbucks, Sudirman Bogor')]\n",
    "dfsbc = dfsbc.groupby(['product']).sum().sort_values(by = 'price', ascending=False)\n",
    "dfsbc.count()"
   ]
  },
  {
   "cell_type": "code",
   "execution_count": 14,
   "metadata": {
    "execution": {
     "iopub.execute_input": "2023-01-28T16:18:26.928285Z",
     "iopub.status.busy": "2023-01-28T16:18:26.927658Z",
     "iopub.status.idle": "2023-01-28T16:18:26.958395Z",
     "shell.execute_reply": "2023-01-28T16:18:26.957138Z",
     "shell.execute_reply.started": "2023-01-28T16:18:26.928250Z"
    }
   },
   "outputs": [
    {
     "data": {
      "text/html": [
       "<div>\n",
       "<style scoped>\n",
       "    .dataframe tbody tr th:only-of-type {\n",
       "        vertical-align: middle;\n",
       "    }\n",
       "\n",
       "    .dataframe tbody tr th {\n",
       "        vertical-align: top;\n",
       "    }\n",
       "\n",
       "    .dataframe thead th {\n",
       "        text-align: right;\n",
       "    }\n",
       "</style>\n",
       "<table border=\"1\" class=\"dataframe\">\n",
       "  <thead>\n",
       "    <tr style=\"text-align: right;\">\n",
       "      <th></th>\n",
       "      <th>price</th>\n",
       "      <th>discount_price</th>\n",
       "      <th>isDiscount</th>\n",
       "    </tr>\n",
       "    <tr>\n",
       "      <th>product</th>\n",
       "      <th></th>\n",
       "      <th></th>\n",
       "      <th></th>\n",
       "    </tr>\n",
       "  </thead>\n",
       "  <tbody>\n",
       "    <tr>\n",
       "      <th>Starbucks Mint Collection</th>\n",
       "      <td>810000.0</td>\n",
       "      <td>0.0</td>\n",
       "      <td>0</td>\n",
       "    </tr>\n",
       "    <tr>\n",
       "      <th>Starbucks Bling Collection</th>\n",
       "      <td>800000.0</td>\n",
       "      <td>0.0</td>\n",
       "      <td>0</td>\n",
       "    </tr>\n",
       "    <tr>\n",
       "      <th>Starbucks Tumbler Collection</th>\n",
       "      <td>750000.0</td>\n",
       "      <td>0.0</td>\n",
       "      <td>0</td>\n",
       "    </tr>\n",
       "    <tr>\n",
       "      <th>Starbucks Translucent &amp; Green Collection</th>\n",
       "      <td>510000.0</td>\n",
       "      <td>0.0</td>\n",
       "      <td>0</td>\n",
       "    </tr>\n",
       "    <tr>\n",
       "      <th>Starbucks Gifting Package</th>\n",
       "      <td>450000.0</td>\n",
       "      <td>309800.0</td>\n",
       "      <td>2</td>\n",
       "    </tr>\n",
       "    <tr>\n",
       "      <th>2 Java Chip Frappuccino + 2 Caramel Macchiato</th>\n",
       "      <td>440000.0</td>\n",
       "      <td>299800.0</td>\n",
       "      <td>2</td>\n",
       "    </tr>\n",
       "    <tr>\n",
       "      <th>2 Green Tea Frappuccino + 2 Caramel Macchiato</th>\n",
       "      <td>440000.0</td>\n",
       "      <td>299800.0</td>\n",
       "      <td>2</td>\n",
       "    </tr>\n",
       "    <tr>\n",
       "      <th>2 Liter Special Price</th>\n",
       "      <td>400000.0</td>\n",
       "      <td>259800.0</td>\n",
       "      <td>2</td>\n",
       "    </tr>\n",
       "    <tr>\n",
       "      <th>New! Starbucks 6 x 250 ml</th>\n",
       "      <td>400000.0</td>\n",
       "      <td>298000.0</td>\n",
       "      <td>2</td>\n",
       "    </tr>\n",
       "    <tr>\n",
       "      <th>2 Mango Passion Frappuccino + 2 Caramel Cream Frappuccino</th>\n",
       "      <td>340000.0</td>\n",
       "      <td>239800.0</td>\n",
       "      <td>2</td>\n",
       "    </tr>\n",
       "  </tbody>\n",
       "</table>\n",
       "</div>"
      ],
      "text/plain": [
       "                                                       price  discount_price  \\\n",
       "product                                                                        \n",
       "Starbucks Mint Collection                           810000.0             0.0   \n",
       "Starbucks Bling Collection                          800000.0             0.0   \n",
       "Starbucks Tumbler Collection                        750000.0             0.0   \n",
       "Starbucks Translucent & Green Collection            510000.0             0.0   \n",
       "Starbucks Gifting Package                           450000.0        309800.0   \n",
       "2 Java Chip Frappuccino + 2 Caramel Macchiato       440000.0        299800.0   \n",
       "2 Green Tea Frappuccino + 2 Caramel Macchiato       440000.0        299800.0   \n",
       "2 Liter Special Price                               400000.0        259800.0   \n",
       "New! Starbucks 6 x 250 ml                           400000.0        298000.0   \n",
       "2 Mango Passion Frappuccino + 2 Caramel Cream F...  340000.0        239800.0   \n",
       "\n",
       "                                                    isDiscount  \n",
       "product                                                         \n",
       "Starbucks Mint Collection                                    0  \n",
       "Starbucks Bling Collection                                   0  \n",
       "Starbucks Tumbler Collection                                 0  \n",
       "Starbucks Translucent & Green Collection                     0  \n",
       "Starbucks Gifting Package                                    2  \n",
       "2 Java Chip Frappuccino + 2 Caramel Macchiato                2  \n",
       "2 Green Tea Frappuccino + 2 Caramel Macchiato                2  \n",
       "2 Liter Special Price                                        2  \n",
       "New! Starbucks 6 x 250 ml                                    2  \n",
       "2 Mango Passion Frappuccino + 2 Caramel Cream F...           2  "
      ]
     },
     "execution_count": 14,
     "metadata": {},
     "output_type": "execute_result"
    }
   ],
   "source": [
    "dfsbc = df[ df['merchant_name'].str.contains('Starbucks, Sudirman Bogor')]\n",
    "dfsbc = dfsbc.groupby(['product']).sum().sort_values(by = 'price', ascending=False)\n",
    "dfsbc.head(10)"
   ]
  },
  {
   "cell_type": "code",
   "execution_count": 15,
   "metadata": {
    "execution": {
     "iopub.execute_input": "2023-01-28T16:18:26.960120Z",
     "iopub.status.busy": "2023-01-28T16:18:26.959841Z",
     "iopub.status.idle": "2023-01-28T16:18:27.269647Z",
     "shell.execute_reply": "2023-01-28T16:18:27.269170Z",
     "shell.execute_reply.started": "2023-01-28T16:18:26.960082Z"
    }
   },
   "outputs": [
    {
     "data": {
      "text/plain": [
       "Text(0.5, 1.0, 'TOP 10 Revenue Product at Starbucks, Sudirman Bogor *withoutdiscount_price')"
      ]
     },
     "execution_count": 15,
     "metadata": {},
     "output_type": "execute_result"
    },
    {
     "data": {
      "image/png": "[encoded data removed]",
      "text/plain": [
       "<Figure size 432x288 with 1 Axes>"
      ]
     },
     "metadata": {
      "needs_background": "light"
     },
     "output_type": "display_data"
    }
   ],
   "source": [
    "dfsbcvis = df[df['merchant_name'].str.contains('Starbucks, Sudirman Bogor')]\n",
    "dfsbcvis = dfsbcvis.groupby(['product']).sum().sort_values(by = 'price', ascending=False)\n",
    "dfsbcvis.head(10).plot(kind='bar')\n",
    "plt.title(\"TOP 10 Revenue Product at Starbucks, Sudirman Bogor *withoutdiscount_price\")"
   ]
  },
  {
   "cell_type": "markdown",
   "metadata": {},
   "source": [
    "----------------------------------------------------------------------------------------------------\n",
    "# Revenue Product \"Starbucks Mint Collection\" at Some Area\n",
    " *without discount_price"
   ]
  },
  {
   "cell_type": "code",
   "execution_count": 16,
   "metadata": {
    "execution": {
     "iopub.execute_input": "2023-01-28T16:18:27.271571Z",
     "iopub.status.busy": "2023-01-28T16:18:27.270461Z",
     "iopub.status.idle": "2023-01-28T16:18:27.307178Z",
     "shell.execute_reply": "2023-01-28T16:18:27.306356Z",
     "shell.execute_reply.started": "2023-01-28T16:18:27.271510Z"
    }
   },
   "outputs": [
    {
     "data": {
      "text/html": [
       "<div>\n",
       "<style scoped>\n",
       "    .dataframe tbody tr th:only-of-type {\n",
       "        vertical-align: middle;\n",
       "    }\n",
       "\n",
       "    .dataframe tbody tr th {\n",
       "        vertical-align: top;\n",
       "    }\n",
       "\n",
       "    .dataframe thead th {\n",
       "        text-align: right;\n",
       "    }\n",
       "</style>\n",
       "<table border=\"1\" class=\"dataframe\">\n",
       "  <thead>\n",
       "    <tr style=\"text-align: right;\">\n",
       "      <th></th>\n",
       "      <th>price</th>\n",
       "      <th>discount_price</th>\n",
       "      <th>isDiscount</th>\n",
       "    </tr>\n",
       "    <tr>\n",
       "      <th>merchant_area</th>\n",
       "      <th></th>\n",
       "      <th></th>\n",
       "      <th></th>\n",
       "    </tr>\n",
       "  </thead>\n",
       "  <tbody>\n",
       "    <tr>\n",
       "      <th>jakarta</th>\n",
       "      <td>810000.0</td>\n",
       "      <td>0.0</td>\n",
       "      <td>0</td>\n",
       "    </tr>\n",
       "    <tr>\n",
       "      <th>medan</th>\n",
       "      <td>405000.0</td>\n",
       "      <td>0.0</td>\n",
       "      <td>0</td>\n",
       "    </tr>\n",
       "  </tbody>\n",
       "</table>\n",
       "</div>"
      ],
      "text/plain": [
       "                  price  discount_price  isDiscount\n",
       "merchant_area                                      \n",
       "jakarta        810000.0             0.0           0\n",
       "medan          405000.0             0.0           0"
      ]
     },
     "execution_count": 16,
     "metadata": {},
     "output_type": "execute_result"
    }
   ],
   "source": [
    "dfsmc = df[ df['product'].str.contains('Starbucks Mint Collection')]\n",
    "dfsmc = dfsmc.groupby(['merchant_area']).sum().sort_values(by = 'price', ascending=False)\n",
    "dfsmc.head()"
   ]
  },
  {
   "cell_type": "code",
   "execution_count": 17,
   "metadata": {
    "execution": {
     "iopub.execute_input": "2023-01-28T16:18:27.308490Z",
     "iopub.status.busy": "2023-01-28T16:18:27.308224Z",
     "iopub.status.idle": "2023-01-28T16:18:27.343114Z",
     "shell.execute_reply": "2023-01-28T16:18:27.342308Z",
     "shell.execute_reply.started": "2023-01-28T16:18:27.308459Z"
    }
   },
   "outputs": [
    {
     "data": {
      "text/html": [
       "<div>\n",
       "<style scoped>\n",
       "    .dataframe tbody tr th:only-of-type {\n",
       "        vertical-align: middle;\n",
       "    }\n",
       "\n",
       "    .dataframe tbody tr th {\n",
       "        vertical-align: top;\n",
       "    }\n",
       "\n",
       "    .dataframe thead th {\n",
       "        text-align: right;\n",
       "    }\n",
       "</style>\n",
       "<table border=\"1\" class=\"dataframe\">\n",
       "  <thead>\n",
       "    <tr style=\"text-align: right;\">\n",
       "      <th></th>\n",
       "      <th>merchant_name</th>\n",
       "      <th>merchant_area</th>\n",
       "      <th>category</th>\n",
       "      <th>display</th>\n",
       "      <th>product</th>\n",
       "      <th>price</th>\n",
       "      <th>discount_price</th>\n",
       "      <th>isDiscount</th>\n",
       "      <th>description</th>\n",
       "    </tr>\n",
       "  </thead>\n",
       "  <tbody>\n",
       "    <tr>\n",
       "      <th>12659</th>\n",
       "      <td>Starbucks, Sudirman Bogor</td>\n",
       "      <td>jakarta</td>\n",
       "      <td>Kopi/Roti/Minuman</td>\n",
       "      <td>Merchandise</td>\n",
       "      <td>Starbucks Mint Collection</td>\n",
       "      <td>405000.0</td>\n",
       "      <td>0.0</td>\n",
       "      <td>0</td>\n",
       "      <td>A.  Waterbottle 12 Oz Ss Mint \\nB.  Waterbottl...</td>\n",
       "    </tr>\n",
       "    <tr>\n",
       "      <th>12803</th>\n",
       "      <td>Starbucks, Sudirman Bogor</td>\n",
       "      <td>jakarta</td>\n",
       "      <td>Roti/Minuman/Kopi</td>\n",
       "      <td>Merchandise</td>\n",
       "      <td>Starbucks Mint Collection</td>\n",
       "      <td>405000.0</td>\n",
       "      <td>0.0</td>\n",
       "      <td>0</td>\n",
       "      <td>A.  Waterbottle 12 Oz Ss Mint \\nB.  Waterbottl...</td>\n",
       "    </tr>\n",
       "    <tr>\n",
       "      <th>27482</th>\n",
       "      <td>Starbucks, Multatuli Medan</td>\n",
       "      <td>medan</td>\n",
       "      <td>Kopi/Sweets/Roti/Minuman</td>\n",
       "      <td>Merchandise</td>\n",
       "      <td>Starbucks Mint Collection</td>\n",
       "      <td>405000.0</td>\n",
       "      <td>0.0</td>\n",
       "      <td>0</td>\n",
       "      <td>A.  Waterbottle 12 Oz Ss Mint \\nB.  Waterbottl...</td>\n",
       "    </tr>\n",
       "  </tbody>\n",
       "</table>\n",
       "</div>"
      ],
      "text/plain": [
       "                    merchant_name merchant_area                  category  \\\n",
       "12659   Starbucks, Sudirman Bogor       jakarta         Kopi/Roti/Minuman   \n",
       "12803   Starbucks, Sudirman Bogor       jakarta         Roti/Minuman/Kopi   \n",
       "27482  Starbucks, Multatuli Medan         medan  Kopi/Sweets/Roti/Minuman   \n",
       "\n",
       "           display                    product     price  discount_price  \\\n",
       "12659  Merchandise  Starbucks Mint Collection  405000.0             0.0   \n",
       "12803  Merchandise  Starbucks Mint Collection  405000.0             0.0   \n",
       "27482  Merchandise  Starbucks Mint Collection  405000.0             0.0   \n",
       "\n",
       "       isDiscount                                        description  \n",
       "12659           0  A.  Waterbottle 12 Oz Ss Mint \\nB.  Waterbottl...  \n",
       "12803           0  A.  Waterbottle 12 Oz Ss Mint \\nB.  Waterbottl...  \n",
       "27482           0  A.  Waterbottle 12 Oz Ss Mint \\nB.  Waterbottl...  "
      ]
     },
     "execution_count": 17,
     "metadata": {},
     "output_type": "execute_result"
    }
   ],
   "source": [
    "dfsmc = df[ df['product'].str.contains('Starbucks Mint Collection')]\n",
    "dfsmc = dfsmc.groupby(['merchant_area'])\n",
    "dfsmc.head()"
   ]
  },
  {
   "cell_type": "markdown",
   "metadata": {},
   "source": [
    "----------------------------------------------------------------------------------------------------\n",
    "# Most Ordered Product of Coffee in Gofood"
   ]
  },
  {
   "cell_type": "code",
   "execution_count": 18,
   "metadata": {
    "execution": {
     "iopub.execute_input": "2023-01-28T16:18:27.345733Z",
     "iopub.status.busy": "2023-01-28T16:18:27.345553Z",
     "iopub.status.idle": "2023-01-28T16:18:27.379095Z",
     "shell.execute_reply": "2023-01-28T16:18:27.378349Z",
     "shell.execute_reply.started": "2023-01-28T16:18:27.345711Z"
    }
   },
   "outputs": [
    {
     "data": {
      "text/html": [
       "<div>\n",
       "<style scoped>\n",
       "    .dataframe tbody tr th:only-of-type {\n",
       "        vertical-align: middle;\n",
       "    }\n",
       "\n",
       "    .dataframe tbody tr th {\n",
       "        vertical-align: top;\n",
       "    }\n",
       "\n",
       "    .dataframe thead th {\n",
       "        text-align: right;\n",
       "    }\n",
       "</style>\n",
       "<table border=\"1\" class=\"dataframe\">\n",
       "  <thead>\n",
       "    <tr style=\"text-align: right;\">\n",
       "      <th></th>\n",
       "      <th>merchant_area</th>\n",
       "      <th>category</th>\n",
       "      <th>display</th>\n",
       "      <th>product</th>\n",
       "      <th>price</th>\n",
       "      <th>discount_price</th>\n",
       "      <th>isDiscount</th>\n",
       "      <th>description</th>\n",
       "    </tr>\n",
       "    <tr>\n",
       "      <th>merchant_name</th>\n",
       "      <th></th>\n",
       "      <th></th>\n",
       "      <th></th>\n",
       "      <th></th>\n",
       "      <th></th>\n",
       "      <th></th>\n",
       "      <th></th>\n",
       "      <th></th>\n",
       "    </tr>\n",
       "  </thead>\n",
       "  <tbody>\n",
       "    <tr>\n",
       "      <th>Kedai Kopi Kulo, Setiabudi</th>\n",
       "      <td>31</td>\n",
       "      <td>31</td>\n",
       "      <td>31</td>\n",
       "      <td>31</td>\n",
       "      <td>31</td>\n",
       "      <td>31</td>\n",
       "      <td>31</td>\n",
       "      <td>31</td>\n",
       "    </tr>\n",
       "    <tr>\n",
       "      <th>Kopi Yor, Medan</th>\n",
       "      <td>24</td>\n",
       "      <td>24</td>\n",
       "      <td>24</td>\n",
       "      <td>24</td>\n",
       "      <td>24</td>\n",
       "      <td>24</td>\n",
       "      <td>24</td>\n",
       "      <td>24</td>\n",
       "    </tr>\n",
       "    <tr>\n",
       "      <th>Serambi Kuphi, Ksatria</th>\n",
       "      <td>22</td>\n",
       "      <td>22</td>\n",
       "      <td>22</td>\n",
       "      <td>22</td>\n",
       "      <td>22</td>\n",
       "      <td>22</td>\n",
       "      <td>22</td>\n",
       "      <td>22</td>\n",
       "    </tr>\n",
       "    <tr>\n",
       "      <th>Tettakopi</th>\n",
       "      <td>16</td>\n",
       "      <td>16</td>\n",
       "      <td>16</td>\n",
       "      <td>16</td>\n",
       "      <td>16</td>\n",
       "      <td>16</td>\n",
       "      <td>16</td>\n",
       "      <td>16</td>\n",
       "    </tr>\n",
       "    <tr>\n",
       "      <th>Dapoer Sedap Wangi</th>\n",
       "      <td>16</td>\n",
       "      <td>16</td>\n",
       "      <td>16</td>\n",
       "      <td>16</td>\n",
       "      <td>16</td>\n",
       "      <td>16</td>\n",
       "      <td>16</td>\n",
       "      <td>16</td>\n",
       "    </tr>\n",
       "  </tbody>\n",
       "</table>\n",
       "</div>"
      ],
      "text/plain": [
       "                            merchant_area  category  display  product  price  \\\n",
       "merchant_name                                                                  \n",
       "Kedai Kopi Kulo, Setiabudi             31        31       31       31     31   \n",
       "Kopi Yor, Medan                        24        24       24       24     24   \n",
       "Serambi Kuphi, Ksatria                 22        22       22       22     22   \n",
       "Tettakopi                              16        16       16       16     16   \n",
       "Dapoer Sedap Wangi                     16        16       16       16     16   \n",
       "\n",
       "                            discount_price  isDiscount  description  \n",
       "merchant_name                                                        \n",
       "Kedai Kopi Kulo, Setiabudi              31          31           31  \n",
       "Kopi Yor, Medan                         24          24           24  \n",
       "Serambi Kuphi, Ksatria                  22          22           22  \n",
       "Tettakopi                               16          16           16  \n",
       "Dapoer Sedap Wangi                      16          16           16  "
      ]
     },
     "execution_count": 18,
     "metadata": {},
     "output_type": "execute_result"
    }
   ],
   "source": [
    "dfkopilaris = df[df['product'].str.contains('Kopi', 'Coffee')]\n",
    "dfkopilaris = dfkopilaris.groupby(['merchant_name']).count().sort_values(by = 'product', ascending = False)\n",
    "dfkopilaris.head()"
   ]
  },
  {
   "cell_type": "markdown",
   "metadata": {},
   "source": [
    "----------------------------------------------------------------------------------------------------\n",
    "# Revenue of most ordered product coffee in Gofood"
   ]
  },
  {
   "cell_type": "code",
   "execution_count": 19,
   "metadata": {
    "execution": {
     "iopub.execute_input": "2023-01-28T16:18:27.380237Z",
     "iopub.status.busy": "2023-01-28T16:18:27.380069Z",
     "iopub.status.idle": "2023-01-28T16:18:27.411819Z",
     "shell.execute_reply": "2023-01-28T16:18:27.410828Z",
     "shell.execute_reply.started": "2023-01-28T16:18:27.380214Z"
    }
   },
   "outputs": [
    {
     "data": {
      "text/html": [
       "<div>\n",
       "<style scoped>\n",
       "    .dataframe tbody tr th:only-of-type {\n",
       "        vertical-align: middle;\n",
       "    }\n",
       "\n",
       "    .dataframe tbody tr th {\n",
       "        vertical-align: top;\n",
       "    }\n",
       "\n",
       "    .dataframe thead th {\n",
       "        text-align: right;\n",
       "    }\n",
       "</style>\n",
       "<table border=\"1\" class=\"dataframe\">\n",
       "  <thead>\n",
       "    <tr style=\"text-align: right;\">\n",
       "      <th></th>\n",
       "      <th>price</th>\n",
       "      <th>discount_price</th>\n",
       "      <th>isDiscount</th>\n",
       "    </tr>\n",
       "    <tr>\n",
       "      <th>merchant_name</th>\n",
       "      <th></th>\n",
       "      <th></th>\n",
       "      <th></th>\n",
       "    </tr>\n",
       "  </thead>\n",
       "  <tbody>\n",
       "    <tr>\n",
       "      <th>Kedai Kopi Kulo, Setiabudi</th>\n",
       "      <td>2935000.0</td>\n",
       "      <td>0.0</td>\n",
       "      <td>0</td>\n",
       "    </tr>\n",
       "  </tbody>\n",
       "</table>\n",
       "</div>"
      ],
      "text/plain": [
       "                                price  discount_price  isDiscount\n",
       "merchant_name                                                    \n",
       "Kedai Kopi Kulo, Setiabudi  2935000.0             0.0           0"
      ]
     },
     "execution_count": 19,
     "metadata": {},
     "output_type": "execute_result"
    }
   ],
   "source": [
    "dflaris = df[df['merchant_name'].str.contains('Kedai Kopi Kulo, Setiabudi')]\n",
    "dflaris = dflaris.groupby(['merchant_name']).sum().sort_values(by = 'price', ascending = False)\n",
    "dflaris.head()"
   ]
  }
 ],
 "metadata": {
  "kernelspec": {
   "display_name": "Python 3 (ipykernel)",
   "language": "python",
   "name": "python3"
  },
  "language_info": {
   "codemirror_mode": {
    "name": "ipython",
    "version": 3
   },
   "file_extension": ".py",
   "mimetype": "text/x-python",
   "name": "python",
   "nbconvert_exporter": "python",
   "pygments_lexer": "ipython3",
   "version": "3.9.12"
  }
 },
 "nbformat": 4,
 "nbformat_minor": 4
}
